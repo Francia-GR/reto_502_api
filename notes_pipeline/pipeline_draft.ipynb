{
 "cells": [
  {
   "cell_type": "code",
   "execution_count": null,
   "metadata": {},
   "outputs": [],
   "source": [
    "'''\n",
    "1. Obtener Datos de la BD Fecha | ID | Ingreso  >> renombrar columnas\n",
    "2. Pivot Table por ID\n",
    "3. Hay fechas faltantes? Llenar fechas\n",
    "3.5 Checar valores atipicos\n",
    "4. Manejo de nulos (son al principio o no hubo ingresos)\n",
    "4. Agrupar por semana *\n",
    "5. \n",
    "'''\n",
    "\n",
    "import pandas as pd"
   ]
  },
  {
   "cell_type": "code",
   "execution_count": null,
   "metadata": {},
   "outputs": [],
   "source": [
    "df = "
   ]
  },
  {
   "cell_type": "code",
   "execution_count": null,
   "metadata": {},
   "outputs": [],
   "source": [
    "\n",
    "def load_data() -> pd.DataFrame:\n",
    "    '''\n",
    "    Retrive data from DB and standarize names of columns.\n",
    "    Create pivot talbe to get time series by company ID.\n",
    "    '''\n",
    "    pass\n",
    "\n",
    "def fill_missing_dates(data:pd.DataFrame) -> pd.DataFrame:\n",
    "    '''\n",
    "    Creates empty rows for dates that are missing in the time series.\n",
    "    '''\n",
    "    pass\n",
    "\n",
    "def handle_outliers(data:pd.DataFrame) -> pd.DataFrame:\n",
    "    '''\n",
    "    Identify and eliminate outliers (replace by NaN).\n",
    "    '''\n",
    "    pass\n",
    "\n",
    "\n",
    "def fill_missing_data(data:pd.DataFrame) -> pd.DataFrame:\n",
    "    '''\n",
    "    Fill missing data for each company's time series. \n",
    "    Returns list of 6 dataframes.\n",
    "    '''\n",
    "\n",
    "\n"
   ]
  }
 ],
 "metadata": {
  "language_info": {
   "name": "python"
  }
 },
 "nbformat": 4,
 "nbformat_minor": 2
}
